{
  "nbformat": 4,
  "nbformat_minor": 0,
  "metadata": {
    "colab": {
      "name": "drug_classification.ipynb",
      "provenance": [],
      "collapsed_sections": [],
      "authorship_tag": "ABX9TyMRIJuiR6vgGCQl1Fvj0yfR",
      "include_colab_link": true
    },
    "kernelspec": {
      "name": "python3",
      "display_name": "Python 3"
    },
    "language_info": {
      "name": "python"
    }
  },
  "cells": [
    {
      "cell_type": "markdown",
      "metadata": {
        "id": "view-in-github",
        "colab_type": "text"
      },
      "source": [
        "<a href=\"https://colab.research.google.com/github/anandodayil/drug_classification/blob/main/drug_classification.ipynb\" target=\"_parent\"><img src=\"https://colab.research.google.com/assets/colab-badge.svg\" alt=\"Open In Colab\"/></a>"
      ]
    },
    {
      "cell_type": "code",
      "execution_count": null,
      "metadata": {
        "colab": {
          "base_uri": "https://localhost:8080/"
        },
        "id": "ngkskRPSBm3u",
        "outputId": "235daf9c-dfad-4cf0-fefd-fffc7672ffd8"
      },
      "outputs": [
        {
          "output_type": "stream",
          "name": "stdout",
          "text": [
            "Drive already mounted at /content/drive; to attempt to forcibly remount, call drive.mount(\"/content/drive\", force_remount=True).\n"
          ]
        }
      ],
      "source": [
        "# Downloading data from \"https://www.kaggle.com/datasets/prathamtripathi/drug-classification\" to local drive\n",
        "# Then uploading drug classification file to google drive\n",
        "# Mounting google colab and google drive\n",
        "\n",
        "from google.colab import drive\n",
        "drive.mount('/content/drive')\n",
        "\n",
        "# Importing data from google drive to google colab\n",
        "# Importing pandas to create dataframe and numpy for array\n",
        "\n",
        "import numpy as np\n",
        "import pandas as pd\n",
        "path = \"/content/drive/MyDrive/Classification /Drug Classification/drug200.csv\" # To get the path click on folder icone on the left side of the screen\n",
        "drug_df = pd.read_csv(path)\n",
        "\n"
      ]
    },
    {
      "cell_type": "code",
      "source": [
        "# Showing drug_df dataframe \n",
        "\n",
        "drug_df"
      ],
      "metadata": {
        "colab": {
          "base_uri": "https://localhost:8080/",
          "height": 424
        },
        "id": "dID3krM4DV2m",
        "outputId": "77749991-0b38-48ca-8b25-682c1034b9a6"
      },
      "execution_count": null,
      "outputs": [
        {
          "output_type": "execute_result",
          "data": {
            "text/plain": [
              "     Age Sex      BP Cholesterol  Na_to_K   Drug\n",
              "0     23   F    HIGH        HIGH   25.355  DrugY\n",
              "1     47   M     LOW        HIGH   13.093  drugC\n",
              "2     47   M     LOW        HIGH   10.114  drugC\n",
              "3     28   F  NORMAL        HIGH    7.798  drugX\n",
              "4     61   F     LOW        HIGH   18.043  DrugY\n",
              "..   ...  ..     ...         ...      ...    ...\n",
              "195   56   F     LOW        HIGH   11.567  drugC\n",
              "196   16   M     LOW        HIGH   12.006  drugC\n",
              "197   52   M  NORMAL        HIGH    9.894  drugX\n",
              "198   23   M  NORMAL      NORMAL   14.020  drugX\n",
              "199   40   F     LOW      NORMAL   11.349  drugX\n",
              "\n",
              "[200 rows x 6 columns]"
            ],
            "text/html": [
              "\n",
              "  <div id=\"df-5c8be01c-afec-4885-854d-335ac8ee7939\">\n",
              "    <div class=\"colab-df-container\">\n",
              "      <div>\n",
              "<style scoped>\n",
              "    .dataframe tbody tr th:only-of-type {\n",
              "        vertical-align: middle;\n",
              "    }\n",
              "\n",
              "    .dataframe tbody tr th {\n",
              "        vertical-align: top;\n",
              "    }\n",
              "\n",
              "    .dataframe thead th {\n",
              "        text-align: right;\n",
              "    }\n",
              "</style>\n",
              "<table border=\"1\" class=\"dataframe\">\n",
              "  <thead>\n",
              "    <tr style=\"text-align: right;\">\n",
              "      <th></th>\n",
              "      <th>Age</th>\n",
              "      <th>Sex</th>\n",
              "      <th>BP</th>\n",
              "      <th>Cholesterol</th>\n",
              "      <th>Na_to_K</th>\n",
              "      <th>Drug</th>\n",
              "    </tr>\n",
              "  </thead>\n",
              "  <tbody>\n",
              "    <tr>\n",
              "      <th>0</th>\n",
              "      <td>23</td>\n",
              "      <td>F</td>\n",
              "      <td>HIGH</td>\n",
              "      <td>HIGH</td>\n",
              "      <td>25.355</td>\n",
              "      <td>DrugY</td>\n",
              "    </tr>\n",
              "    <tr>\n",
              "      <th>1</th>\n",
              "      <td>47</td>\n",
              "      <td>M</td>\n",
              "      <td>LOW</td>\n",
              "      <td>HIGH</td>\n",
              "      <td>13.093</td>\n",
              "      <td>drugC</td>\n",
              "    </tr>\n",
              "    <tr>\n",
              "      <th>2</th>\n",
              "      <td>47</td>\n",
              "      <td>M</td>\n",
              "      <td>LOW</td>\n",
              "      <td>HIGH</td>\n",
              "      <td>10.114</td>\n",
              "      <td>drugC</td>\n",
              "    </tr>\n",
              "    <tr>\n",
              "      <th>3</th>\n",
              "      <td>28</td>\n",
              "      <td>F</td>\n",
              "      <td>NORMAL</td>\n",
              "      <td>HIGH</td>\n",
              "      <td>7.798</td>\n",
              "      <td>drugX</td>\n",
              "    </tr>\n",
              "    <tr>\n",
              "      <th>4</th>\n",
              "      <td>61</td>\n",
              "      <td>F</td>\n",
              "      <td>LOW</td>\n",
              "      <td>HIGH</td>\n",
              "      <td>18.043</td>\n",
              "      <td>DrugY</td>\n",
              "    </tr>\n",
              "    <tr>\n",
              "      <th>...</th>\n",
              "      <td>...</td>\n",
              "      <td>...</td>\n",
              "      <td>...</td>\n",
              "      <td>...</td>\n",
              "      <td>...</td>\n",
              "      <td>...</td>\n",
              "    </tr>\n",
              "    <tr>\n",
              "      <th>195</th>\n",
              "      <td>56</td>\n",
              "      <td>F</td>\n",
              "      <td>LOW</td>\n",
              "      <td>HIGH</td>\n",
              "      <td>11.567</td>\n",
              "      <td>drugC</td>\n",
              "    </tr>\n",
              "    <tr>\n",
              "      <th>196</th>\n",
              "      <td>16</td>\n",
              "      <td>M</td>\n",
              "      <td>LOW</td>\n",
              "      <td>HIGH</td>\n",
              "      <td>12.006</td>\n",
              "      <td>drugC</td>\n",
              "    </tr>\n",
              "    <tr>\n",
              "      <th>197</th>\n",
              "      <td>52</td>\n",
              "      <td>M</td>\n",
              "      <td>NORMAL</td>\n",
              "      <td>HIGH</td>\n",
              "      <td>9.894</td>\n",
              "      <td>drugX</td>\n",
              "    </tr>\n",
              "    <tr>\n",
              "      <th>198</th>\n",
              "      <td>23</td>\n",
              "      <td>M</td>\n",
              "      <td>NORMAL</td>\n",
              "      <td>NORMAL</td>\n",
              "      <td>14.020</td>\n",
              "      <td>drugX</td>\n",
              "    </tr>\n",
              "    <tr>\n",
              "      <th>199</th>\n",
              "      <td>40</td>\n",
              "      <td>F</td>\n",
              "      <td>LOW</td>\n",
              "      <td>NORMAL</td>\n",
              "      <td>11.349</td>\n",
              "      <td>drugX</td>\n",
              "    </tr>\n",
              "  </tbody>\n",
              "</table>\n",
              "<p>200 rows × 6 columns</p>\n",
              "</div>\n",
              "      <button class=\"colab-df-convert\" onclick=\"convertToInteractive('df-5c8be01c-afec-4885-854d-335ac8ee7939')\"\n",
              "              title=\"Convert this dataframe to an interactive table.\"\n",
              "              style=\"display:none;\">\n",
              "        \n",
              "  <svg xmlns=\"http://www.w3.org/2000/svg\" height=\"24px\"viewBox=\"0 0 24 24\"\n",
              "       width=\"24px\">\n",
              "    <path d=\"M0 0h24v24H0V0z\" fill=\"none\"/>\n",
              "    <path d=\"M18.56 5.44l.94 2.06.94-2.06 2.06-.94-2.06-.94-.94-2.06-.94 2.06-2.06.94zm-11 1L8.5 8.5l.94-2.06 2.06-.94-2.06-.94L8.5 2.5l-.94 2.06-2.06.94zm10 10l.94 2.06.94-2.06 2.06-.94-2.06-.94-.94-2.06-.94 2.06-2.06.94z\"/><path d=\"M17.41 7.96l-1.37-1.37c-.4-.4-.92-.59-1.43-.59-.52 0-1.04.2-1.43.59L10.3 9.45l-7.72 7.72c-.78.78-.78 2.05 0 2.83L4 21.41c.39.39.9.59 1.41.59.51 0 1.02-.2 1.41-.59l7.78-7.78 2.81-2.81c.8-.78.8-2.07 0-2.86zM5.41 20L4 18.59l7.72-7.72 1.47 1.35L5.41 20z\"/>\n",
              "  </svg>\n",
              "      </button>\n",
              "      \n",
              "  <style>\n",
              "    .colab-df-container {\n",
              "      display:flex;\n",
              "      flex-wrap:wrap;\n",
              "      gap: 12px;\n",
              "    }\n",
              "\n",
              "    .colab-df-convert {\n",
              "      background-color: #E8F0FE;\n",
              "      border: none;\n",
              "      border-radius: 50%;\n",
              "      cursor: pointer;\n",
              "      display: none;\n",
              "      fill: #1967D2;\n",
              "      height: 32px;\n",
              "      padding: 0 0 0 0;\n",
              "      width: 32px;\n",
              "    }\n",
              "\n",
              "    .colab-df-convert:hover {\n",
              "      background-color: #E2EBFA;\n",
              "      box-shadow: 0px 1px 2px rgba(60, 64, 67, 0.3), 0px 1px 3px 1px rgba(60, 64, 67, 0.15);\n",
              "      fill: #174EA6;\n",
              "    }\n",
              "\n",
              "    [theme=dark] .colab-df-convert {\n",
              "      background-color: #3B4455;\n",
              "      fill: #D2E3FC;\n",
              "    }\n",
              "\n",
              "    [theme=dark] .colab-df-convert:hover {\n",
              "      background-color: #434B5C;\n",
              "      box-shadow: 0px 1px 3px 1px rgba(0, 0, 0, 0.15);\n",
              "      filter: drop-shadow(0px 1px 2px rgba(0, 0, 0, 0.3));\n",
              "      fill: #FFFFFF;\n",
              "    }\n",
              "  </style>\n",
              "\n",
              "      <script>\n",
              "        const buttonEl =\n",
              "          document.querySelector('#df-5c8be01c-afec-4885-854d-335ac8ee7939 button.colab-df-convert');\n",
              "        buttonEl.style.display =\n",
              "          google.colab.kernel.accessAllowed ? 'block' : 'none';\n",
              "\n",
              "        async function convertToInteractive(key) {\n",
              "          const element = document.querySelector('#df-5c8be01c-afec-4885-854d-335ac8ee7939');\n",
              "          const dataTable =\n",
              "            await google.colab.kernel.invokeFunction('convertToInteractive',\n",
              "                                                     [key], {});\n",
              "          if (!dataTable) return;\n",
              "\n",
              "          const docLinkHtml = 'Like what you see? Visit the ' +\n",
              "            '<a target=\"_blank\" href=https://colab.research.google.com/notebooks/data_table.ipynb>data table notebook</a>'\n",
              "            + ' to learn more about interactive tables.';\n",
              "          element.innerHTML = '';\n",
              "          dataTable['output_type'] = 'display_data';\n",
              "          await google.colab.output.renderOutput(dataTable, element);\n",
              "          const docLink = document.createElement('div');\n",
              "          docLink.innerHTML = docLinkHtml;\n",
              "          element.appendChild(docLink);\n",
              "        }\n",
              "      </script>\n",
              "    </div>\n",
              "  </div>\n",
              "  "
            ]
          },
          "metadata": {},
          "execution_count": 132
        }
      ]
    },
    {
      "cell_type": "code",
      "source": [
        "# To check for empty values\n",
        "\n",
        "print(drug_df.isna().sum())\n",
        "print(drug_df.isnull().sum())"
      ],
      "metadata": {
        "colab": {
          "base_uri": "https://localhost:8080/"
        },
        "id": "rVVsvCVfM3jt",
        "outputId": "3eb3b70d-70e2-4947-ddd2-fd038c9580a0"
      },
      "execution_count": null,
      "outputs": [
        {
          "output_type": "stream",
          "name": "stdout",
          "text": [
            "Age            0\n",
            "Sex            0\n",
            "BP             0\n",
            "Cholesterol    0\n",
            "Na_to_K        0\n",
            "Drug           0\n",
            "dtype: int64\n",
            "Age            0\n",
            "Sex            0\n",
            "BP             0\n",
            "Cholesterol    0\n",
            "Na_to_K        0\n",
            "Drug           0\n",
            "dtype: int64\n"
          ]
        }
      ]
    },
    {
      "cell_type": "code",
      "source": [
        "# Lets divide the data into \"Qualitative\" and \"Quantitative\" columns\n",
        "quali = [\"Sex\", \"BP\", \"Cholesterol\"]\n",
        "quanti = [\"Age\", \"Na_to_K\"]\n",
        "\n",
        "# In qualitative data \"Sex\" is Nominal data and \"BP\" and \"Cholesterol\" is Ordinal data\n",
        "nominal = [\"Sex\"]\n",
        "ordinal = [\"BP\", \"Cholesterol\"]\n",
        "\n",
        "# In quantitative data \"Age\" is Discrete data and \"Na_to_K\" is Continuous data\n",
        "discrete = [\"Age\"]\n",
        "continuous = [\"Na_to_K\"]"
      ],
      "metadata": {
        "id": "WjyJZIpihFj_"
      },
      "execution_count": null,
      "outputs": []
    },
    {
      "cell_type": "code",
      "source": [
        "# To check unique values in catogorical data\n",
        "\n",
        "for column in quali:\n",
        "    print(column)\n",
        "    print(drug_df[column].value_counts())\n",
        "    print(\"==============================\")"
      ],
      "metadata": {
        "colab": {
          "base_uri": "https://localhost:8080/"
        },
        "id": "xlFQ_mfBNret",
        "outputId": "1057460f-554d-4611-a1fc-ead433ba2f65"
      },
      "execution_count": null,
      "outputs": [
        {
          "output_type": "stream",
          "name": "stdout",
          "text": [
            "Sex\n",
            "M    104\n",
            "F     96\n",
            "Name: Sex, dtype: int64\n",
            "==============================\n",
            "BP\n",
            "HIGH      77\n",
            "LOW       64\n",
            "NORMAL    59\n",
            "Name: BP, dtype: int64\n",
            "==============================\n",
            "Cholesterol\n",
            "HIGH      103\n",
            "NORMAL     97\n",
            "Name: Cholesterol, dtype: int64\n",
            "==============================\n"
          ]
        }
      ]
    },
    {
      "cell_type": "code",
      "source": [
        ""
      ],
      "metadata": {
        "id": "sZBehY7vTpkC"
      },
      "execution_count": null,
      "outputs": []
    },
    {
      "cell_type": "code",
      "source": [
        "# To convert Nominal data we use \"OneHotEncoding\" \n",
        "\n",
        "from sklearn.preprocessing import OneHotEncoder\n",
        "oh_encoder = OneHotEncoder()\n",
        "oh_encoder.fit(drug_df[nominal])\n",
        "oh_encoder_df = pd.DataFrame(oh_encoder.transform(drug_df[nominal]).toarray())\n",
        "\n",
        "oh_encoder_df.rename(columns = {0 : \"Female\", 1 : \"Male\"}, inplace = True)\n",
        "\n",
        "# And to convert Ordinal data we use \"replace\" ## if you know better method to do this please share\n",
        "\n",
        "dict_1 = {\"LOW\" : 0, \"NORMAL\" : 1, \"HIGH\" : 2}\n",
        "drug_df[\"BP\"].replace(dict_1, inplace = True)\n",
        "\n",
        "dict_2 = {\"NORMAL\" : 0, \"HIGH\" : 1}\n",
        "drug_df['Cholesterol'].replace(dict_2, inplace = True)"
      ],
      "metadata": {
        "id": "kMOqkIpBFwbL"
      },
      "execution_count": null,
      "outputs": []
    },
    {
      "cell_type": "code",
      "source": [
        "# Creating X and y variable\n",
        "\n",
        "X = drug_df.drop(['Drug', 'Sex'], axis = 1)\n",
        "X = X.join(oh_encoder_df)\n",
        "y = drug_df.Drug"
      ],
      "metadata": {
        "id": "VN-XpR-C4Gj2"
      },
      "execution_count": null,
      "outputs": []
    },
    {
      "cell_type": "code",
      "source": [
        "X"
      ],
      "metadata": {
        "colab": {
          "base_uri": "https://localhost:8080/",
          "height": 424
        },
        "id": "IgzfQd8l0hm-",
        "outputId": "39a25c42-50bb-4e5f-bd9d-74aa6cce315d"
      },
      "execution_count": null,
      "outputs": [
        {
          "output_type": "execute_result",
          "data": {
            "text/plain": [
              "     Age  BP  Cholesterol  Na_to_K  Female  Male\n",
              "0     23   2            1   25.355     1.0   0.0\n",
              "1     47   0            1   13.093     0.0   1.0\n",
              "2     47   0            1   10.114     0.0   1.0\n",
              "3     28   1            1    7.798     1.0   0.0\n",
              "4     61   0            1   18.043     1.0   0.0\n",
              "..   ...  ..          ...      ...     ...   ...\n",
              "195   56   0            1   11.567     1.0   0.0\n",
              "196   16   0            1   12.006     0.0   1.0\n",
              "197   52   1            1    9.894     0.0   1.0\n",
              "198   23   1            0   14.020     0.0   1.0\n",
              "199   40   0            0   11.349     1.0   0.0\n",
              "\n",
              "[200 rows x 6 columns]"
            ],
            "text/html": [
              "\n",
              "  <div id=\"df-7ec33f3e-bb7f-4cf6-afac-b07ed32036b5\">\n",
              "    <div class=\"colab-df-container\">\n",
              "      <div>\n",
              "<style scoped>\n",
              "    .dataframe tbody tr th:only-of-type {\n",
              "        vertical-align: middle;\n",
              "    }\n",
              "\n",
              "    .dataframe tbody tr th {\n",
              "        vertical-align: top;\n",
              "    }\n",
              "\n",
              "    .dataframe thead th {\n",
              "        text-align: right;\n",
              "    }\n",
              "</style>\n",
              "<table border=\"1\" class=\"dataframe\">\n",
              "  <thead>\n",
              "    <tr style=\"text-align: right;\">\n",
              "      <th></th>\n",
              "      <th>Age</th>\n",
              "      <th>BP</th>\n",
              "      <th>Cholesterol</th>\n",
              "      <th>Na_to_K</th>\n",
              "      <th>Female</th>\n",
              "      <th>Male</th>\n",
              "    </tr>\n",
              "  </thead>\n",
              "  <tbody>\n",
              "    <tr>\n",
              "      <th>0</th>\n",
              "      <td>23</td>\n",
              "      <td>2</td>\n",
              "      <td>1</td>\n",
              "      <td>25.355</td>\n",
              "      <td>1.0</td>\n",
              "      <td>0.0</td>\n",
              "    </tr>\n",
              "    <tr>\n",
              "      <th>1</th>\n",
              "      <td>47</td>\n",
              "      <td>0</td>\n",
              "      <td>1</td>\n",
              "      <td>13.093</td>\n",
              "      <td>0.0</td>\n",
              "      <td>1.0</td>\n",
              "    </tr>\n",
              "    <tr>\n",
              "      <th>2</th>\n",
              "      <td>47</td>\n",
              "      <td>0</td>\n",
              "      <td>1</td>\n",
              "      <td>10.114</td>\n",
              "      <td>0.0</td>\n",
              "      <td>1.0</td>\n",
              "    </tr>\n",
              "    <tr>\n",
              "      <th>3</th>\n",
              "      <td>28</td>\n",
              "      <td>1</td>\n",
              "      <td>1</td>\n",
              "      <td>7.798</td>\n",
              "      <td>1.0</td>\n",
              "      <td>0.0</td>\n",
              "    </tr>\n",
              "    <tr>\n",
              "      <th>4</th>\n",
              "      <td>61</td>\n",
              "      <td>0</td>\n",
              "      <td>1</td>\n",
              "      <td>18.043</td>\n",
              "      <td>1.0</td>\n",
              "      <td>0.0</td>\n",
              "    </tr>\n",
              "    <tr>\n",
              "      <th>...</th>\n",
              "      <td>...</td>\n",
              "      <td>...</td>\n",
              "      <td>...</td>\n",
              "      <td>...</td>\n",
              "      <td>...</td>\n",
              "      <td>...</td>\n",
              "    </tr>\n",
              "    <tr>\n",
              "      <th>195</th>\n",
              "      <td>56</td>\n",
              "      <td>0</td>\n",
              "      <td>1</td>\n",
              "      <td>11.567</td>\n",
              "      <td>1.0</td>\n",
              "      <td>0.0</td>\n",
              "    </tr>\n",
              "    <tr>\n",
              "      <th>196</th>\n",
              "      <td>16</td>\n",
              "      <td>0</td>\n",
              "      <td>1</td>\n",
              "      <td>12.006</td>\n",
              "      <td>0.0</td>\n",
              "      <td>1.0</td>\n",
              "    </tr>\n",
              "    <tr>\n",
              "      <th>197</th>\n",
              "      <td>52</td>\n",
              "      <td>1</td>\n",
              "      <td>1</td>\n",
              "      <td>9.894</td>\n",
              "      <td>0.0</td>\n",
              "      <td>1.0</td>\n",
              "    </tr>\n",
              "    <tr>\n",
              "      <th>198</th>\n",
              "      <td>23</td>\n",
              "      <td>1</td>\n",
              "      <td>0</td>\n",
              "      <td>14.020</td>\n",
              "      <td>0.0</td>\n",
              "      <td>1.0</td>\n",
              "    </tr>\n",
              "    <tr>\n",
              "      <th>199</th>\n",
              "      <td>40</td>\n",
              "      <td>0</td>\n",
              "      <td>0</td>\n",
              "      <td>11.349</td>\n",
              "      <td>1.0</td>\n",
              "      <td>0.0</td>\n",
              "    </tr>\n",
              "  </tbody>\n",
              "</table>\n",
              "<p>200 rows × 6 columns</p>\n",
              "</div>\n",
              "      <button class=\"colab-df-convert\" onclick=\"convertToInteractive('df-7ec33f3e-bb7f-4cf6-afac-b07ed32036b5')\"\n",
              "              title=\"Convert this dataframe to an interactive table.\"\n",
              "              style=\"display:none;\">\n",
              "        \n",
              "  <svg xmlns=\"http://www.w3.org/2000/svg\" height=\"24px\"viewBox=\"0 0 24 24\"\n",
              "       width=\"24px\">\n",
              "    <path d=\"M0 0h24v24H0V0z\" fill=\"none\"/>\n",
              "    <path d=\"M18.56 5.44l.94 2.06.94-2.06 2.06-.94-2.06-.94-.94-2.06-.94 2.06-2.06.94zm-11 1L8.5 8.5l.94-2.06 2.06-.94-2.06-.94L8.5 2.5l-.94 2.06-2.06.94zm10 10l.94 2.06.94-2.06 2.06-.94-2.06-.94-.94-2.06-.94 2.06-2.06.94z\"/><path d=\"M17.41 7.96l-1.37-1.37c-.4-.4-.92-.59-1.43-.59-.52 0-1.04.2-1.43.59L10.3 9.45l-7.72 7.72c-.78.78-.78 2.05 0 2.83L4 21.41c.39.39.9.59 1.41.59.51 0 1.02-.2 1.41-.59l7.78-7.78 2.81-2.81c.8-.78.8-2.07 0-2.86zM5.41 20L4 18.59l7.72-7.72 1.47 1.35L5.41 20z\"/>\n",
              "  </svg>\n",
              "      </button>\n",
              "      \n",
              "  <style>\n",
              "    .colab-df-container {\n",
              "      display:flex;\n",
              "      flex-wrap:wrap;\n",
              "      gap: 12px;\n",
              "    }\n",
              "\n",
              "    .colab-df-convert {\n",
              "      background-color: #E8F0FE;\n",
              "      border: none;\n",
              "      border-radius: 50%;\n",
              "      cursor: pointer;\n",
              "      display: none;\n",
              "      fill: #1967D2;\n",
              "      height: 32px;\n",
              "      padding: 0 0 0 0;\n",
              "      width: 32px;\n",
              "    }\n",
              "\n",
              "    .colab-df-convert:hover {\n",
              "      background-color: #E2EBFA;\n",
              "      box-shadow: 0px 1px 2px rgba(60, 64, 67, 0.3), 0px 1px 3px 1px rgba(60, 64, 67, 0.15);\n",
              "      fill: #174EA6;\n",
              "    }\n",
              "\n",
              "    [theme=dark] .colab-df-convert {\n",
              "      background-color: #3B4455;\n",
              "      fill: #D2E3FC;\n",
              "    }\n",
              "\n",
              "    [theme=dark] .colab-df-convert:hover {\n",
              "      background-color: #434B5C;\n",
              "      box-shadow: 0px 1px 3px 1px rgba(0, 0, 0, 0.15);\n",
              "      filter: drop-shadow(0px 1px 2px rgba(0, 0, 0, 0.3));\n",
              "      fill: #FFFFFF;\n",
              "    }\n",
              "  </style>\n",
              "\n",
              "      <script>\n",
              "        const buttonEl =\n",
              "          document.querySelector('#df-7ec33f3e-bb7f-4cf6-afac-b07ed32036b5 button.colab-df-convert');\n",
              "        buttonEl.style.display =\n",
              "          google.colab.kernel.accessAllowed ? 'block' : 'none';\n",
              "\n",
              "        async function convertToInteractive(key) {\n",
              "          const element = document.querySelector('#df-7ec33f3e-bb7f-4cf6-afac-b07ed32036b5');\n",
              "          const dataTable =\n",
              "            await google.colab.kernel.invokeFunction('convertToInteractive',\n",
              "                                                     [key], {});\n",
              "          if (!dataTable) return;\n",
              "\n",
              "          const docLinkHtml = 'Like what you see? Visit the ' +\n",
              "            '<a target=\"_blank\" href=https://colab.research.google.com/notebooks/data_table.ipynb>data table notebook</a>'\n",
              "            + ' to learn more about interactive tables.';\n",
              "          element.innerHTML = '';\n",
              "          dataTable['output_type'] = 'display_data';\n",
              "          await google.colab.output.renderOutput(dataTable, element);\n",
              "          const docLink = document.createElement('div');\n",
              "          docLink.innerHTML = docLinkHtml;\n",
              "          element.appendChild(docLink);\n",
              "        }\n",
              "      </script>\n",
              "    </div>\n",
              "  </div>\n",
              "  "
            ]
          },
          "metadata": {},
          "execution_count": 138
        }
      ]
    },
    {
      "cell_type": "code",
      "source": [
        "y"
      ],
      "metadata": {
        "colab": {
          "base_uri": "https://localhost:8080/"
        },
        "id": "yISzimrwkXK9",
        "outputId": "e4e42a2e-16b9-4fe7-c829-8382c92b45f7"
      },
      "execution_count": null,
      "outputs": [
        {
          "output_type": "execute_result",
          "data": {
            "text/plain": [
              "0      DrugY\n",
              "1      drugC\n",
              "2      drugC\n",
              "3      drugX\n",
              "4      DrugY\n",
              "       ...  \n",
              "195    drugC\n",
              "196    drugC\n",
              "197    drugX\n",
              "198    drugX\n",
              "199    drugX\n",
              "Name: Drug, Length: 200, dtype: object"
            ]
          },
          "metadata": {},
          "execution_count": 139
        }
      ]
    },
    {
      "cell_type": "code",
      "source": [
        "# To convert y to numerical values\n",
        "from sklearn.preprocessing import LabelEncoder\n",
        "\n",
        "l_encoder = LabelEncoder()\n",
        "y = l_encoder.fit_transform(y)\n",
        "np.unique(y, return_counts = True)"
      ],
      "metadata": {
        "colab": {
          "base_uri": "https://localhost:8080/"
        },
        "id": "K57pxlxX3X8G",
        "outputId": "38fb427b-6bbc-4994-ca38-85541ca8ba38"
      },
      "execution_count": null,
      "outputs": [
        {
          "output_type": "execute_result",
          "data": {
            "text/plain": [
              "(array([0, 1, 2, 3, 4]), array([91, 23, 16, 16, 54]))"
            ]
          },
          "metadata": {},
          "execution_count": 140
        }
      ]
    },
    {
      "cell_type": "code",
      "source": [
        "X.shape"
      ],
      "metadata": {
        "colab": {
          "base_uri": "https://localhost:8080/"
        },
        "id": "Ixjj0Ih6K8mF",
        "outputId": "45b26806-73a4-4896-f6f6-e98c9afb28d6"
      },
      "execution_count": null,
      "outputs": [
        {
          "output_type": "execute_result",
          "data": {
            "text/plain": [
              "(200, 6)"
            ]
          },
          "metadata": {},
          "execution_count": 141
        }
      ]
    },
    {
      "cell_type": "code",
      "source": [
        "y.shape"
      ],
      "metadata": {
        "colab": {
          "base_uri": "https://localhost:8080/"
        },
        "id": "olV70bWE77PI",
        "outputId": "b96a1d12-3a7f-4c04-acf8-f1becc3cea62"
      },
      "execution_count": null,
      "outputs": [
        {
          "output_type": "execute_result",
          "data": {
            "text/plain": [
              "(200,)"
            ]
          },
          "metadata": {},
          "execution_count": 142
        }
      ]
    },
    {
      "cell_type": "code",
      "source": [
        "\n",
        "from sklearn.linear_model import LogisticRegression\n",
        "from sklearn import svm\n",
        "from sklearn.neighbors import KNeighborsClassifier\n",
        "from sklearn.naive_bayes import GaussianNB\n",
        "from sklearn.tree import DecisionTreeClassifier\n",
        "from sklearn.ensemble import RandomForestClassifier\n",
        "\n",
        "from sklearn.model_selection import StratifiedKFold\n",
        "from sklearn.model_selection import LeaveOneOut\n",
        "from sklearn.model_selection import LeavePOut\n",
        "\n",
        "model = DecisionTreeClassifier()\n",
        "\n",
        "\n",
        "lpo_validation = LeavePOut(2) # C(n, p) really expensive to calculate\n",
        "loo_validation = LeaveOneOut()\n",
        "skfold_validation = StratifiedKFold(7)\n",
        "\n",
        "\n",
        "from sklearn.model_selection import cross_val_score\n",
        "\n",
        "result = cross_val_score(model, X, y, cv = skfold_validation)\n",
        "\n",
        "print(result)"
      ],
      "metadata": {
        "colab": {
          "base_uri": "https://localhost:8080/"
        },
        "id": "1M46hrcckuAJ",
        "outputId": "51efe530-74a0-49c9-a021-a4b4b6b77ae8"
      },
      "execution_count": null,
      "outputs": [
        {
          "output_type": "stream",
          "name": "stdout",
          "text": [
            "[1.         1.         1.         1.         0.96428571 0.96428571\n",
            " 1.        ]\n"
          ]
        }
      ]
    },
    {
      "cell_type": "code",
      "source": [
        "result.mean() *100"
      ],
      "metadata": {
        "colab": {
          "base_uri": "https://localhost:8080/"
        },
        "id": "DfwDyOGcRe0v",
        "outputId": "eb020d53-ea1d-4c94-adad-35da17ffbda0"
      },
      "execution_count": null,
      "outputs": [
        {
          "output_type": "execute_result",
          "data": {
            "text/plain": [
              "98.9795918367347"
            ]
          },
          "metadata": {},
          "execution_count": 144
        }
      ]
    },
    {
      "cell_type": "code",
      "source": [
        "from sklearn.preprocessing import StandardScaler, MinMaxScaler, RobustScaler\n",
        "\n",
        "scaler = StandardScaler()\n",
        "scaler.fit(X)\n",
        "X_scaled = scaler.transform(X)\n"
      ],
      "metadata": {
        "id": "VEFyzQJHMi0N"
      },
      "execution_count": null,
      "outputs": []
    },
    {
      "cell_type": "code",
      "source": [
        "X_scaled.shape"
      ],
      "metadata": {
        "colab": {
          "base_uri": "https://localhost:8080/"
        },
        "id": "OOFQoYzNMo8v",
        "outputId": "9377cc52-675f-414a-9195-2faf9d95c48f"
      },
      "execution_count": null,
      "outputs": [
        {
          "output_type": "execute_result",
          "data": {
            "text/plain": [
              "(200, 6)"
            ]
          },
          "metadata": {},
          "execution_count": 146
        }
      ]
    },
    {
      "cell_type": "code",
      "source": [
        "model = svm.SVC()\n",
        "\n",
        "\n",
        "lpo_validation = LeavePOut(2) # C(n, p) really expensive to calculate\n",
        "loo_validation = LeaveOneOut()\n",
        "skfold_validation = StratifiedKFold(7)\n",
        "\n",
        "\n",
        "from sklearn.model_selection import cross_val_score\n",
        "\n",
        "result = cross_val_score(model, X_scaled, y, cv = skfold_validation)\n",
        "\n",
        "print(result)"
      ],
      "metadata": {
        "colab": {
          "base_uri": "https://localhost:8080/"
        },
        "id": "D45kgkMhRzX2",
        "outputId": "b1238acf-5903-444a-c5be-6c7c0c1ab137"
      },
      "execution_count": null,
      "outputs": [
        {
          "output_type": "stream",
          "name": "stdout",
          "text": [
            "[0.96551724 0.93103448 0.96551724 0.96551724 0.85714286 0.96428571\n",
            " 0.96428571]\n"
          ]
        }
      ]
    },
    {
      "cell_type": "code",
      "source": [
        "#Using pca to reduce features\n",
        "from sklearn.decomposition import PCA\n",
        "\n",
        "pca = PCA(n_components = 5)\n",
        "\n",
        "X_pca = pca.fit_transform(X_scaled)\n",
        "\n",
        "# X_pca = pca.transform(X)\n",
        "# X_test_pca = pca.transform(X_test_scaled)\n",
        "\n",
        "print(f\"{X_pca.shape}\")"
      ],
      "metadata": {
        "id": "vsrg7YuuMvXt",
        "colab": {
          "base_uri": "https://localhost:8080/"
        },
        "outputId": "09c76e82-fcc6-40be-b93f-4fc87081e595"
      },
      "execution_count": null,
      "outputs": [
        {
          "output_type": "stream",
          "name": "stdout",
          "text": [
            "(200, 5)\n"
          ]
        }
      ]
    },
    {
      "cell_type": "code",
      "source": [
        "model = svm.SVC()\n",
        "\n",
        "\n",
        "lpo_validation = LeavePOut(3) # C(n, p) really expensive to calculate\n",
        "loo_validation = LeaveOneOut()\n",
        "skfold_validation = StratifiedKFold(5)\n",
        "\n",
        "\n",
        "from sklearn.model_selection import cross_val_score\n",
        "\n",
        "result = cross_val_score(model, X_pca, y, cv = skfold_validation)\n",
        "\n",
        "print(result)"
      ],
      "metadata": {
        "colab": {
          "base_uri": "https://localhost:8080/"
        },
        "id": "RrneJ3GPSBJB",
        "outputId": "96ba8369-60ea-4051-c998-82d625a797b9"
      },
      "execution_count": null,
      "outputs": [
        {
          "output_type": "stream",
          "name": "stdout",
          "text": [
            "[0.925 0.975 0.95  0.875 1.   ]\n"
          ]
        }
      ]
    },
    {
      "cell_type": "code",
      "source": [
        "\n",
        "from sklearn.metrics import accuracy_score, confusion_matrix, classification_report\n",
        "\n",
        "def print_score(clf, X_train, y_train, X_test, y_test, train=True):\n",
        "    if train:\n",
        "        pred = clf.predict(X_train)\n",
        "        clf_report = pd.DataFrame(classification_report(y_train, pred, output_dict=True))\n",
        "        print(\"Train Result:\\n================================================\")\n",
        "        print(f\"train Accuracy Score: {accuracy_score(y_train, pred) * 100:.2f}%\")\n",
        "        print(\"_______________________________________________\")\n",
        "        print(f\"CLASSIFICATION REPORT:\\n{clf_report}\")\n",
        "        print(\"_______________________________________________\")\n",
        "        print(f\"Confusion Matrix: \\n {confusion_matrix(y_train, pred)}\\n\")\n",
        "        \n",
        "    elif train==False:\n",
        "        pred = clf.predict(X_test)\n",
        "        clf_report = pd.DataFrame(classification_report(y_test, pred, output_dict=True))\n",
        "        print(\"Test Result:\\n================================================\")        \n",
        "        print(f\"test Accuracy Score: {accuracy_score(y_test, pred) * 100:.2f}%\")\n",
        "        print(\"_______________________________________________\")\n",
        "        print(f\"CLASSIFICATION REPORT:\\n{clf_report}\")\n",
        "        print(\"_______________________________________________\")\n",
        "        print(f\"Confusion Matrix: \\n {confusion_matrix(y_test, pred)}\\n\")"
      ],
      "metadata": {
        "id": "aQ0BOJve8sU1"
      },
      "execution_count": null,
      "outputs": []
    },
    {
      "cell_type": "code",
      "source": [
        "\n",
        "from sklearn.linear_model import LogisticRegression\n",
        "from sklearn import svm\n",
        "from sklearn.neighbors import KNeighborsClassifier\n",
        "from sklearn.naive_bayes import GaussianNB\n",
        "from sklearn.tree import DecisionTreeClassifier\n",
        "from sklearn.ensemble import RandomForestClassifier\n",
        "\n",
        "# clf = RandomForestClassifier(7)\n",
        "# clf.fit(X_train_pca, y_train)\n",
        "\n",
        "# clf = DecisionTreeClassifier()\n",
        "# clf.fit(X_train_pca, y_train)\n",
        "\n",
        "# clf = GaussianNB()\n",
        "# clf.fit(X_train_pca, y_train)\n",
        "\n",
        "# clf = KNeighborsClassifier(5)\n",
        "# clf.fit(X_train_pca, y_train)\n",
        "\n",
        "# clf = svm.SVC(C= 1, gamma= 0.1, kernel= 'rbf')\n",
        "# clf.fit(X_train, y_train)\n",
        "\n",
        "# clf = LogisticRegression(solver='liblinear')\n",
        "# clf.fit(X_train_pca, y_train)\n",
        "\n",
        "# print_score(clf, X_train_pca, y_train, X_test_pca, y_test, train=True)\n",
        "# print_score(clf, X_train_pca, y_train, X_test_pca, y_test, train=False)"
      ],
      "metadata": {
        "id": "pFvmSU-l8x9v"
      },
      "execution_count": null,
      "outputs": []
    },
    {
      "cell_type": "code",
      "source": [
        "\n",
        "from sklearn.model_selection import GridSearchCV\n",
        " \n",
        "# defining parameter range\n",
        "param_grid = {\"n_neighbors\" : [x for x in range(5, 30)]\n",
        "              \n",
        "              }\n",
        " \n",
        "grid = GridSearchCV( KNeighborsClassifier(), param_grid, refit = True, verbose = 3)\n",
        " \n",
        "# fitting the model for grid search\n",
        "grid.fit(X_scaled, y)"
      ],
      "metadata": {
        "colab": {
          "base_uri": "https://localhost:8080/"
        },
        "id": "RQj9ZGI99IbJ",
        "outputId": "509cfc78-19b1-42a7-fce3-3d01db496d35"
      },
      "execution_count": null,
      "outputs": [
        {
          "output_type": "stream",
          "name": "stdout",
          "text": [
            "Fitting 5 folds for each of 25 candidates, totalling 125 fits\n",
            "[CV 1/5] END .....................n_neighbors=5;, score=0.800 total time=   0.0s\n",
            "[CV 2/5] END .....................n_neighbors=5;, score=0.800 total time=   0.0s\n",
            "[CV 3/5] END .....................n_neighbors=5;, score=0.775 total time=   0.0s\n",
            "[CV 4/5] END .....................n_neighbors=5;, score=0.775 total time=   0.0s\n",
            "[CV 5/5] END .....................n_neighbors=5;, score=0.825 total time=   0.0s\n",
            "[CV 1/5] END .....................n_neighbors=6;, score=0.775 total time=   0.0s\n",
            "[CV 2/5] END .....................n_neighbors=6;, score=0.775 total time=   0.0s\n",
            "[CV 3/5] END .....................n_neighbors=6;, score=0.800 total time=   0.0s\n",
            "[CV 4/5] END .....................n_neighbors=6;, score=0.750 total time=   0.0s\n",
            "[CV 5/5] END .....................n_neighbors=6;, score=0.875 total time=   0.0s\n",
            "[CV 1/5] END .....................n_neighbors=7;, score=0.750 total time=   0.0s\n",
            "[CV 2/5] END .....................n_neighbors=7;, score=0.700 total time=   0.0s\n",
            "[CV 3/5] END .....................n_neighbors=7;, score=0.800 total time=   0.0s\n",
            "[CV 4/5] END .....................n_neighbors=7;, score=0.800 total time=   0.0s\n",
            "[CV 5/5] END .....................n_neighbors=7;, score=0.925 total time=   0.0s\n",
            "[CV 1/5] END .....................n_neighbors=8;, score=0.775 total time=   0.0s\n",
            "[CV 2/5] END .....................n_neighbors=8;, score=0.775 total time=   0.0s\n",
            "[CV 3/5] END .....................n_neighbors=8;, score=0.800 total time=   0.0s\n",
            "[CV 4/5] END .....................n_neighbors=8;, score=0.825 total time=   0.0s\n",
            "[CV 5/5] END .....................n_neighbors=8;, score=0.925 total time=   0.0s\n",
            "[CV 1/5] END .....................n_neighbors=9;, score=0.725 total time=   0.0s\n",
            "[CV 2/5] END .....................n_neighbors=9;, score=0.775 total time=   0.0s\n",
            "[CV 3/5] END .....................n_neighbors=9;, score=0.725 total time=   0.0s\n",
            "[CV 4/5] END .....................n_neighbors=9;, score=0.700 total time=   0.0s\n",
            "[CV 5/5] END .....................n_neighbors=9;, score=0.925 total time=   0.0s\n",
            "[CV 1/5] END ....................n_neighbors=10;, score=0.750 total time=   0.0s\n",
            "[CV 2/5] END ....................n_neighbors=10;, score=0.725 total time=   0.0s\n",
            "[CV 3/5] END ....................n_neighbors=10;, score=0.750 total time=   0.0s\n",
            "[CV 4/5] END ....................n_neighbors=10;, score=0.650 total time=   0.0s\n",
            "[CV 5/5] END ....................n_neighbors=10;, score=0.925 total time=   0.0s\n",
            "[CV 1/5] END ....................n_neighbors=11;, score=0.725 total time=   0.0s\n",
            "[CV 2/5] END ....................n_neighbors=11;, score=0.650 total time=   0.0s\n",
            "[CV 3/5] END ....................n_neighbors=11;, score=0.725 total time=   0.0s\n",
            "[CV 4/5] END ....................n_neighbors=11;, score=0.625 total time=   0.0s\n",
            "[CV 5/5] END ....................n_neighbors=11;, score=0.825 total time=   0.0s\n",
            "[CV 1/5] END ....................n_neighbors=12;, score=0.775 total time=   0.0s\n",
            "[CV 2/5] END ....................n_neighbors=12;, score=0.625 total time=   0.0s\n",
            "[CV 3/5] END ....................n_neighbors=12;, score=0.700 total time=   0.0s\n",
            "[CV 4/5] END ....................n_neighbors=12;, score=0.650 total time=   0.0s\n",
            "[CV 5/5] END ....................n_neighbors=12;, score=0.750 total time=   0.0s\n",
            "[CV 1/5] END ....................n_neighbors=13;, score=0.775 total time=   0.0s\n",
            "[CV 2/5] END ....................n_neighbors=13;, score=0.600 total time=   0.0s\n",
            "[CV 3/5] END ....................n_neighbors=13;, score=0.725 total time=   0.0s\n",
            "[CV 4/5] END ....................n_neighbors=13;, score=0.600 total time=   0.0s\n",
            "[CV 5/5] END ....................n_neighbors=13;, score=0.775 total time=   0.0s\n",
            "[CV 1/5] END ....................n_neighbors=14;, score=0.750 total time=   0.0s\n",
            "[CV 2/5] END ....................n_neighbors=14;, score=0.600 total time=   0.0s\n",
            "[CV 3/5] END ....................n_neighbors=14;, score=0.650 total time=   0.0s\n",
            "[CV 4/5] END ....................n_neighbors=14;, score=0.600 total time=   0.0s\n",
            "[CV 5/5] END ....................n_neighbors=14;, score=0.725 total time=   0.0s\n",
            "[CV 1/5] END ....................n_neighbors=15;, score=0.675 total time=   0.0s\n",
            "[CV 2/5] END ....................n_neighbors=15;, score=0.575 total time=   0.0s\n",
            "[CV 3/5] END ....................n_neighbors=15;, score=0.675 total time=   0.0s\n",
            "[CV 4/5] END ....................n_neighbors=15;, score=0.650 total time=   0.0s\n",
            "[CV 5/5] END ....................n_neighbors=15;, score=0.725 total time=   0.0s\n",
            "[CV 1/5] END ....................n_neighbors=16;, score=0.750 total time=   0.0s\n",
            "[CV 2/5] END ....................n_neighbors=16;, score=0.575 total time=   0.0s\n",
            "[CV 3/5] END ....................n_neighbors=16;, score=0.675 total time=   0.0s\n",
            "[CV 4/5] END ....................n_neighbors=16;, score=0.625 total time=   0.0s\n",
            "[CV 5/5] END ....................n_neighbors=16;, score=0.750 total time=   0.0s\n",
            "[CV 1/5] END ....................n_neighbors=17;, score=0.750 total time=   0.0s\n",
            "[CV 2/5] END ....................n_neighbors=17;, score=0.600 total time=   0.0s\n",
            "[CV 3/5] END ....................n_neighbors=17;, score=0.650 total time=   0.0s\n",
            "[CV 4/5] END ....................n_neighbors=17;, score=0.650 total time=   0.0s\n",
            "[CV 5/5] END ....................n_neighbors=17;, score=0.750 total time=   0.0s\n",
            "[CV 1/5] END ....................n_neighbors=18;, score=0.750 total time=   0.0s\n",
            "[CV 2/5] END ....................n_neighbors=18;, score=0.625 total time=   0.0s\n",
            "[CV 3/5] END ....................n_neighbors=18;, score=0.700 total time=   0.0s\n",
            "[CV 4/5] END ....................n_neighbors=18;, score=0.600 total time=   0.0s\n",
            "[CV 5/5] END ....................n_neighbors=18;, score=0.750 total time=   0.0s\n",
            "[CV 1/5] END ....................n_neighbors=19;, score=0.675 total time=   0.0s\n",
            "[CV 2/5] END ....................n_neighbors=19;, score=0.600 total time=   0.0s\n",
            "[CV 3/5] END ....................n_neighbors=19;, score=0.700 total time=   0.0s\n",
            "[CV 4/5] END ....................n_neighbors=19;, score=0.625 total time=   0.0s\n",
            "[CV 5/5] END ....................n_neighbors=19;, score=0.725 total time=   0.0s\n",
            "[CV 1/5] END ....................n_neighbors=20;, score=0.700 total time=   0.0s\n",
            "[CV 2/5] END ....................n_neighbors=20;, score=0.650 total time=   0.0s\n",
            "[CV 3/5] END ....................n_neighbors=20;, score=0.700 total time=   0.0s\n",
            "[CV 4/5] END ....................n_neighbors=20;, score=0.650 total time=   0.0s\n",
            "[CV 5/5] END ....................n_neighbors=20;, score=0.725 total time=   0.0s\n",
            "[CV 1/5] END ....................n_neighbors=21;, score=0.725 total time=   0.0s\n",
            "[CV 2/5] END ....................n_neighbors=21;, score=0.625 total time=   0.0s\n",
            "[CV 3/5] END ....................n_neighbors=21;, score=0.700 total time=   0.0s\n",
            "[CV 4/5] END ....................n_neighbors=21;, score=0.625 total time=   0.0s\n",
            "[CV 5/5] END ....................n_neighbors=21;, score=0.725 total time=   0.0s\n",
            "[CV 1/5] END ....................n_neighbors=22;, score=0.725 total time=   0.0s\n",
            "[CV 2/5] END ....................n_neighbors=22;, score=0.625 total time=   0.0s\n",
            "[CV 3/5] END ....................n_neighbors=22;, score=0.675 total time=   0.0s\n",
            "[CV 4/5] END ....................n_neighbors=22;, score=0.625 total time=   0.0s\n",
            "[CV 5/5] END ....................n_neighbors=22;, score=0.725 total time=   0.0s\n",
            "[CV 1/5] END ....................n_neighbors=23;, score=0.725 total time=   0.0s\n",
            "[CV 2/5] END ....................n_neighbors=23;, score=0.625 total time=   0.0s\n",
            "[CV 3/5] END ....................n_neighbors=23;, score=0.625 total time=   0.0s\n",
            "[CV 4/5] END ....................n_neighbors=23;, score=0.625 total time=   0.0s\n",
            "[CV 5/5] END ....................n_neighbors=23;, score=0.750 total time=   0.0s\n",
            "[CV 1/5] END ....................n_neighbors=24;, score=0.750 total time=   0.0s\n",
            "[CV 2/5] END ....................n_neighbors=24;, score=0.600 total time=   0.0s\n",
            "[CV 3/5] END ....................n_neighbors=24;, score=0.650 total time=   0.0s\n",
            "[CV 4/5] END ....................n_neighbors=24;, score=0.625 total time=   0.0s\n",
            "[CV 5/5] END ....................n_neighbors=24;, score=0.750 total time=   0.0s\n",
            "[CV 1/5] END ....................n_neighbors=25;, score=0.750 total time=   0.0s\n",
            "[CV 2/5] END ....................n_neighbors=25;, score=0.600 total time=   0.0s\n",
            "[CV 3/5] END ....................n_neighbors=25;, score=0.625 total time=   0.0s\n",
            "[CV 4/5] END ....................n_neighbors=25;, score=0.650 total time=   0.0s\n",
            "[CV 5/5] END ....................n_neighbors=25;, score=0.750 total time=   0.0s\n",
            "[CV 1/5] END ....................n_neighbors=26;, score=0.750 total time=   0.0s\n",
            "[CV 2/5] END ....................n_neighbors=26;, score=0.575 total time=   0.0s\n",
            "[CV 3/5] END ....................n_neighbors=26;, score=0.625 total time=   0.0s\n",
            "[CV 4/5] END ....................n_neighbors=26;, score=0.650 total time=   0.0s\n",
            "[CV 5/5] END ....................n_neighbors=26;, score=0.775 total time=   0.0s\n",
            "[CV 1/5] END ....................n_neighbors=27;, score=0.725 total time=   0.0s\n",
            "[CV 2/5] END ....................n_neighbors=27;, score=0.600 total time=   0.0s\n",
            "[CV 3/5] END ....................n_neighbors=27;, score=0.625 total time=   0.0s\n",
            "[CV 4/5] END ....................n_neighbors=27;, score=0.675 total time=   0.0s\n",
            "[CV 5/5] END ....................n_neighbors=27;, score=0.725 total time=   0.0s\n",
            "[CV 1/5] END ....................n_neighbors=28;, score=0.750 total time=   0.0s\n",
            "[CV 2/5] END ....................n_neighbors=28;, score=0.600 total time=   0.0s\n",
            "[CV 3/5] END ....................n_neighbors=28;, score=0.675 total time=   0.0s\n",
            "[CV 4/5] END ....................n_neighbors=28;, score=0.675 total time=   0.0s\n",
            "[CV 5/5] END ....................n_neighbors=28;, score=0.750 total time=   0.0s\n",
            "[CV 1/5] END ....................n_neighbors=29;, score=0.750 total time=   0.0s\n",
            "[CV 2/5] END ....................n_neighbors=29;, score=0.625 total time=   0.0s\n",
            "[CV 3/5] END ....................n_neighbors=29;, score=0.650 total time=   0.0s\n",
            "[CV 4/5] END ....................n_neighbors=29;, score=0.700 total time=   0.0s\n",
            "[CV 5/5] END ....................n_neighbors=29;, score=0.750 total time=   0.0s\n"
          ]
        },
        {
          "output_type": "execute_result",
          "data": {
            "text/plain": [
              "GridSearchCV(estimator=KNeighborsClassifier(),\n",
              "             param_grid={'n_neighbors': [5, 6, 7, 8, 9, 10, 11, 12, 13, 14, 15,\n",
              "                                         16, 17, 18, 19, 20, 21, 22, 23, 24, 25,\n",
              "                                         26, 27, 28, 29]},\n",
              "             verbose=3)"
            ]
          },
          "metadata": {},
          "execution_count": 152
        }
      ]
    },
    {
      "cell_type": "code",
      "source": [
        "print(grid.best_params_)"
      ],
      "metadata": {
        "colab": {
          "base_uri": "https://localhost:8080/"
        },
        "id": "RjVLk-C19SHX",
        "outputId": "aa2e1cc1-95f0-4b34-c580-2ec993d93bdc"
      },
      "execution_count": null,
      "outputs": [
        {
          "output_type": "stream",
          "name": "stdout",
          "text": [
            "{'n_neighbors': 8}\n"
          ]
        }
      ]
    },
    {
      "cell_type": "code",
      "source": [
        "from sklearn.model_selection import StratifiedKFold\n",
        "from sklearn.model_selection import LeaveOneOut\n",
        "from sklearn.model_selection import LeavePOut\n",
        "\n",
        "model = DecisionTreeClassifier()\n",
        "\n",
        "\n",
        "lpo_validation = LeavePOut(2) # C(n, p) really expensive to calculate\n",
        "loo_validation = LeaveOneOut()\n",
        "skfold_validation = StratifiedKFold(5)\n",
        "\n",
        "\n",
        "from sklearn.model_selection import cross_val_score\n",
        "\n",
        "result = cross_val_score(model, X_scaled, y, cv = skfold_validation)\n",
        "\n",
        "print(result.mean())"
      ],
      "metadata": {
        "colab": {
          "base_uri": "https://localhost:8080/"
        },
        "id": "tgt4k-1y9CqS",
        "outputId": "ae1cd3d7-6046-4557-e647-19da17af0cfa"
      },
      "execution_count": null,
      "outputs": [
        {
          "output_type": "stream",
          "name": "stdout",
          "text": [
            "0.985\n"
          ]
        }
      ]
    },
    {
      "cell_type": "code",
      "source": [
        "from sklearn.model_selection import train_test_split\n",
        "X_train, X_test, y_train, y_test = train_test_split(X_scaled, y, test_size = 0.2)\n",
        "\n",
        "\n",
        "# clf = RandomForestClassifier(7)\n",
        "# clf.fit(X_train_pca, y_train)\n",
        "\n",
        "clf = DecisionTreeClassifier()\n",
        "clf.fit(X_train, y_train)\n",
        "\n",
        "# clf = GaussianNB()\n",
        "# clf.fit(X_train, y_train)\n",
        "\n",
        "# clf = KNeighborsClassifier(8)\n",
        "# clf.fit(X_train, y_train)\n",
        "\n",
        "# clf = svm.SVC(C= 100, gamma= 0.01, kernel= 'rbf')\n",
        "# clf.fit(X_train, y_train)\n",
        "\n",
        "# clf = LogisticRegression(solver='liblinear')\n",
        "# clf.fit(X_train_pca, y_train)\n",
        "\n",
        "print_score(clf, X_train, y_train, X_test, y_test, train=True)\n",
        "print_score(clf, X_train, y_train, X_test, y_test, train=False)"
      ],
      "metadata": {
        "id": "eu-OjKFR9Cnd",
        "colab": {
          "base_uri": "https://localhost:8080/"
        },
        "outputId": "aaab5bbe-95cd-4e41-acc5-c1decc31edb6"
      },
      "execution_count": null,
      "outputs": [
        {
          "output_type": "stream",
          "name": "stdout",
          "text": [
            "Train Result:\n",
            "================================================\n",
            "train Accuracy Score: 100.00%\n",
            "_______________________________________________\n",
            "CLASSIFICATION REPORT:\n",
            "              0     1     2     3     4  accuracy  macro avg  weighted avg\n",
            "precision   1.0   1.0   1.0   1.0   1.0       1.0        1.0           1.0\n",
            "recall      1.0   1.0   1.0   1.0   1.0       1.0        1.0           1.0\n",
            "f1-score    1.0   1.0   1.0   1.0   1.0       1.0        1.0           1.0\n",
            "support    70.0  19.0  13.0  15.0  43.0       1.0      160.0         160.0\n",
            "_______________________________________________\n",
            "Confusion Matrix: \n",
            " [[70  0  0  0  0]\n",
            " [ 0 19  0  0  0]\n",
            " [ 0  0 13  0  0]\n",
            " [ 0  0  0 15  0]\n",
            " [ 0  0  0  0 43]]\n",
            "\n",
            "Test Result:\n",
            "================================================\n",
            "test Accuracy Score: 100.00%\n",
            "_______________________________________________\n",
            "CLASSIFICATION REPORT:\n",
            "              0    1    2    3     4  accuracy  macro avg  weighted avg\n",
            "precision   1.0  1.0  1.0  1.0   1.0       1.0        1.0           1.0\n",
            "recall      1.0  1.0  1.0  1.0   1.0       1.0        1.0           1.0\n",
            "f1-score    1.0  1.0  1.0  1.0   1.0       1.0        1.0           1.0\n",
            "support    21.0  4.0  3.0  1.0  11.0       1.0       40.0          40.0\n",
            "_______________________________________________\n",
            "Confusion Matrix: \n",
            " [[21  0  0  0  0]\n",
            " [ 0  4  0  0  0]\n",
            " [ 0  0  3  0  0]\n",
            " [ 0  0  0  1  0]\n",
            " [ 0  0  0  0 11]]\n",
            "\n"
          ]
        }
      ]
    },
    {
      "cell_type": "code",
      "source": [
        "a = np.array([[23, \"F\", \"LOW\", 'NORMAL', 20]])\n",
        "dff = pd.DataFrame(a)"
      ],
      "metadata": {
        "id": "xJkjIOqxSLx_"
      },
      "execution_count": null,
      "outputs": []
    },
    {
      "cell_type": "code",
      "source": [
        "\n",
        "oh_encoder_df = pd.DataFrame(oh_encoder.transform(dff[[1]]).toarray())\n",
        "\n",
        "oh_encoder_df.rename(columns = {0 : \"Female\", 1 : \"Male\"}, inplace = True)\n"
      ],
      "metadata": {
        "id": "ve3uAnnX9ClK",
        "colab": {
          "base_uri": "https://localhost:8080/"
        },
        "outputId": "b3f5a541-0c10-4c89-b479-6b0d85240be4"
      },
      "execution_count": null,
      "outputs": [
        {
          "output_type": "stream",
          "name": "stderr",
          "text": [
            "/usr/local/lib/python3.7/dist-packages/sklearn/base.py:451: UserWarning: X does not have valid feature names, but OneHotEncoder was fitted with feature names\n",
            "  \"X does not have valid feature names, but\"\n"
          ]
        }
      ]
    },
    {
      "cell_type": "code",
      "source": [
        "dff.drop([1], axis = 1, inplace = True)"
      ],
      "metadata": {
        "id": "2u2SzC9V9Cir"
      },
      "execution_count": null,
      "outputs": []
    },
    {
      "cell_type": "code",
      "source": [
        "dff = dff.join(oh_encoder_df)"
      ],
      "metadata": {
        "id": "ZMV6eBSF9CgR"
      },
      "execution_count": null,
      "outputs": []
    },
    {
      "cell_type": "code",
      "source": [
        "\n",
        "dict_1 = {\"LOW\" : 0, \"NORMAL\" : 1, \"HIGH\" : 2}\n",
        "dff[2].replace(dict_1, inplace = True)\n",
        "\n",
        "dict_2 = {\"NORMAL\" : 0, \"HIGH\" : 1}\n",
        "dff[3].replace(dict_2, inplace = True)"
      ],
      "metadata": {
        "id": "WhjV4OZfVEGD"
      },
      "execution_count": null,
      "outputs": []
    },
    {
      "cell_type": "code",
      "source": [
        "j = scaler.transform(dff)"
      ],
      "metadata": {
        "colab": {
          "base_uri": "https://localhost:8080/"
        },
        "id": "bqGhnbqnWzXQ",
        "outputId": "3141d635-df21-4aca-a4bc-1ec93dbbeb11"
      },
      "execution_count": null,
      "outputs": [
        {
          "output_type": "stream",
          "name": "stderr",
          "text": [
            "/usr/local/lib/python3.7/dist-packages/sklearn/utils/validation.py:1692: FutureWarning: Feature names only support names that are all strings. Got feature names with dtypes: ['int', 'str']. An error will be raised in 1.2.\n",
            "  FutureWarning,\n",
            "/usr/local/lib/python3.7/dist-packages/sklearn/base.py:451: UserWarning: X does not have valid feature names, but StandardScaler was fitted with feature names\n",
            "  \"X does not have valid feature names, but\"\n"
          ]
        }
      ]
    },
    {
      "cell_type": "code",
      "source": [
        "j"
      ],
      "metadata": {
        "colab": {
          "base_uri": "https://localhost:8080/"
        },
        "id": "kBD5QLAGW37M",
        "outputId": "68668209-163e-479f-bb2c-68e60c88e0c0"
      },
      "execution_count": null,
      "outputs": [
        {
          "output_type": "execute_result",
          "data": {
            "text/plain": [
              "array([[-1.29159102, -1.2722144 , -1.03046381,  0.5433783 ,  1.040833  ,\n",
              "        -1.040833  ]])"
            ]
          },
          "metadata": {},
          "execution_count": 181
        }
      ]
    },
    {
      "cell_type": "code",
      "source": [
        "clf.predict(j)"
      ],
      "metadata": {
        "colab": {
          "base_uri": "https://localhost:8080/"
        },
        "id": "upVbfdaPcgNj",
        "outputId": "64c21c21-53c2-48f6-b1a3-7165371477de"
      },
      "execution_count": null,
      "outputs": [
        {
          "output_type": "execute_result",
          "data": {
            "text/plain": [
              "array([0])"
            ]
          },
          "metadata": {},
          "execution_count": 182
        }
      ]
    },
    {
      "cell_type": "code",
      "source": [
        ""
      ],
      "metadata": {
        "id": "B297aGVLcmlJ"
      },
      "execution_count": null,
      "outputs": []
    }
  ]
}